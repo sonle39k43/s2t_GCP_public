{
 "cells": [
  {
   "cell_type": "code",
   "execution_count": null,
   "metadata": {},
   "outputs": [],
   "source": [
    "# Create anaconda env \n",
    "# conda create --name {env_name} {python==3.9}\n",
    "# !pip install https://github.com/pyannote/pyannote-audio/archive/develop.zip\n",
    "# !pip install speechbrain\n",
    "# !pip install pydub"
   ]
  },
  {
   "cell_type": "code",
   "execution_count": 2,
   "metadata": {},
   "outputs": [
    {
     "name": "stderr",
     "output_type": "stream",
     "text": [
      "c:\\Users\\minhl\\anaconda3\\envs\\s2t_GCP_Final\\lib\\site-packages\\tqdm\\auto.py:22: TqdmWarning: IProgress not found. Please update jupyter and ipywidgets. See https://ipywidgets.readthedocs.io/en/stable/user_install.html\n",
      "  from .autonotebook import tqdm as notebook_tqdm\n",
      "The torchaudio backend is switched to 'soundfile'. Note that 'sox_io' is not supported on Windows.\n",
      "The torchaudio backend is switched to 'soundfile'. Note that 'sox_io' is not supported on Windows.\n"
     ]
    }
   ],
   "source": [
    "from pyannote.audio import Pipeline\n",
    "import speechbrain as sb\n",
    "pipeline = Pipeline.from_pretrained(\"pyannote/speaker-diarization\")"
   ]
  },
  {
   "cell_type": "code",
   "execution_count": 3,
   "metadata": {},
   "outputs": [],
   "source": [
    "from pydub import AudioSegment\n",
    "import os"
   ]
  },
  {
   "cell_type": "code",
   "execution_count": 4,
   "metadata": {},
   "outputs": [],
   "source": [
    "diarization = pipeline('Input/28-06-2022_test.wav')"
   ]
  },
  {
   "cell_type": "code",
   "execution_count": 5,
   "metadata": {},
   "outputs": [
    {
     "name": "stdout",
     "output_type": "stream",
     "text": [
      "5\n",
      "{'folder/_0.wav': 0, 'folder/_1.wav': 'SPEAKER_00', 'folder/_2.wav': 'SPEAKER_01', 'folder/_3.wav': 'SPEAKER_00', 'folder/_4.wav': 'SPEAKER_01'}\n"
     ]
    }
   ],
   "source": [
    "name = 'folder/'\n",
    "hashDict = {}\n",
    "i = 0        \n",
    "start,end,lab = 0,0,0\n",
    "for segment,track,label in diarization.itertracks(yield_label = True):\n",
    "    if label != lab:\n",
    "        # Audio_speaker_i = Audio[start * 1000 : end * 1000]\n",
    "        # Audio_speaker_i.export(name + str(i) + '.wav', format = 'wav')\n",
    "        hashDict[name + '_' +str(i) + '.wav'] = lab\n",
    "        \n",
    "        start = segment.start\n",
    "        end = segment.end\n",
    "        lab = label\n",
    "        i += 1\n",
    "    else:\n",
    "        end = segment.end\n",
    "print(i)\n",
    "print(hashDict)"
   ]
  },
  {
   "cell_type": "code",
   "execution_count": 12,
   "metadata": {},
   "outputs": [],
   "source": [
    "def Split_speaker(audio_file, folder):\n",
    "    os.makedirs(folder, exist_ok=True)\n",
    "    Audio = AudioSegment.from_file(audio_file)\n",
    "    name = folder + '/' + audio_file.split('/')[-1].replace('.wav', '')\n",
    "    hashDict = {}\n",
    "    diarization = pipeline(audio_file)\n",
    "    i = 0        \n",
    "    start,end,lab = 0,0,0\n",
    "    for segment,track,label in diarization.itertracks(yield_label = True):\n",
    "        if label != lab:\n",
    "            Audio_speaker_i = Audio[start * 1000 : end * 1000]\n",
    "            Audio_speaker_i.export(name + str(i) + '.wav', format = 'wav')\n",
    "            hashDict[name + '_' +str(i) + '.wav'] = lab\n",
    "            i += 1\n",
    "            start = segment.start\n",
    "            end = segment.end\n",
    "            lab = label\n",
    "        else:\n",
    "            end = segment.end\n",
    "        \n",
    "    return hashDict"
   ]
  },
  {
   "cell_type": "code",
   "execution_count": 22,
   "metadata": {},
   "outputs": [
    {
     "data": {
      "text/plain": [
       "{'Split_speaker/28-06-2022_test_0.wav': 'SPEAKER_00',\n",
       " 'Split_speaker/28-06-2022_test_1.wav': 'SPEAKER_00',\n",
       " 'Split_speaker/28-06-2022_test_2.wav': 'SPEAKER_00',\n",
       " 'Split_speaker/28-06-2022_test_3.wav': 'SPEAKER_00',\n",
       " 'Split_speaker/28-06-2022_test_4.wav': 'SPEAKER_00',\n",
       " 'Split_speaker/28-06-2022_test_5.wav': 'SPEAKER_00',\n",
       " 'Split_speaker/28-06-2022_test_6.wav': 'SPEAKER_00',\n",
       " 'Split_speaker/28-06-2022_test_7.wav': 'SPEAKER_00',\n",
       " 'Split_speaker/28-06-2022_test_8.wav': 'SPEAKER_01',\n",
       " 'Split_speaker/28-06-2022_test_9.wav': 'SPEAKER_01',\n",
       " 'Split_speaker/28-06-2022_test_10.wav': 'SPEAKER_01',\n",
       " 'Split_speaker/28-06-2022_test_11.wav': 'SPEAKER_01',\n",
       " 'Split_speaker/28-06-2022_test_12.wav': 'SPEAKER_01',\n",
       " 'Split_speaker/28-06-2022_test_13.wav': 'SPEAKER_01',\n",
       " 'Split_speaker/28-06-2022_test_14.wav': 'SPEAKER_01',\n",
       " 'Split_speaker/28-06-2022_test_15.wav': 'SPEAKER_01',\n",
       " 'Split_speaker/28-06-2022_test_16.wav': 'SPEAKER_01',\n",
       " 'Split_speaker/28-06-2022_test_17.wav': 'SPEAKER_01',\n",
       " 'Split_speaker/28-06-2022_test_18.wav': 'SPEAKER_01',\n",
       " 'Split_speaker/28-06-2022_test_19.wav': 'SPEAKER_01',\n",
       " 'Split_speaker/28-06-2022_test_20.wav': 'SPEAKER_01',\n",
       " 'Split_speaker/28-06-2022_test_21.wav': 'SPEAKER_01',\n",
       " 'Split_speaker/28-06-2022_test_22.wav': 'SPEAKER_01',\n",
       " 'Split_speaker/28-06-2022_test_23.wav': 'SPEAKER_01',\n",
       " 'Split_speaker/28-06-2022_test_24.wav': 'SPEAKER_01',\n",
       " 'Split_speaker/28-06-2022_test_25.wav': 'SPEAKER_01',\n",
       " 'Split_speaker/28-06-2022_test_26.wav': 'SPEAKER_01',\n",
       " 'Split_speaker/28-06-2022_test_27.wav': 'SPEAKER_00',\n",
       " 'Split_speaker/28-06-2022_test_28.wav': 'SPEAKER_01',\n",
       " 'Split_speaker/28-06-2022_test_29.wav': 'SPEAKER_01',\n",
       " 'Split_speaker/28-06-2022_test_30.wav': 'SPEAKER_01',\n",
       " 'Split_speaker/28-06-2022_test_31.wav': 'SPEAKER_01',\n",
       " 'Split_speaker/28-06-2022_test_32.wav': 'SPEAKER_01',\n",
       " 'Split_speaker/28-06-2022_test_33.wav': 'SPEAKER_01',\n",
       " 'Split_speaker/28-06-2022_test_34.wav': 'SPEAKER_01',\n",
       " 'Split_speaker/28-06-2022_test_35.wav': 'SPEAKER_01',\n",
       " 'Split_speaker/28-06-2022_test_36.wav': 'SPEAKER_01',\n",
       " 'Split_speaker/28-06-2022_test_37.wav': 'SPEAKER_01',\n",
       " 'Split_speaker/28-06-2022_test_38.wav': 'SPEAKER_01',\n",
       " 'Split_speaker/28-06-2022_test_39.wav': 'SPEAKER_01',\n",
       " 'Split_speaker/28-06-2022_test_40.wav': 'SPEAKER_01',\n",
       " 'Split_speaker/28-06-2022_test_41.wav': 'SPEAKER_01',\n",
       " 'Split_speaker/28-06-2022_test_42.wav': 'SPEAKER_01',\n",
       " 'Split_speaker/28-06-2022_test_43.wav': 'SPEAKER_01',\n",
       " 'Split_speaker/28-06-2022_test_44.wav': 'SPEAKER_01',\n",
       " 'Split_speaker/28-06-2022_test_45.wav': 'SPEAKER_01',\n",
       " 'Split_speaker/28-06-2022_test_46.wav': 'SPEAKER_01',\n",
       " 'Split_speaker/28-06-2022_test_47.wav': 'SPEAKER_01',\n",
       " 'Split_speaker/28-06-2022_test_48.wav': 'SPEAKER_01',\n",
       " 'Split_speaker/28-06-2022_test_49.wav': 'SPEAKER_01',\n",
       " 'Split_speaker/28-06-2022_test_50.wav': 'SPEAKER_01',\n",
       " 'Split_speaker/28-06-2022_test_51.wav': 'SPEAKER_01',\n",
       " 'Split_speaker/28-06-2022_test_52.wav': 'SPEAKER_01',\n",
       " 'Split_speaker/28-06-2022_test_53.wav': 'SPEAKER_01',\n",
       " 'Split_speaker/28-06-2022_test_54.wav': 'SPEAKER_01',\n",
       " 'Split_speaker/28-06-2022_test_55.wav': 'SPEAKER_01',\n",
       " 'Split_speaker/28-06-2022_test_56.wav': 'SPEAKER_01',\n",
       " 'Split_speaker/28-06-2022_test_57.wav': 'SPEAKER_01',\n",
       " 'Split_speaker/28-06-2022_test_58.wav': 'SPEAKER_01',\n",
       " 'Split_speaker/28-06-2022_test_59.wav': 'SPEAKER_01',\n",
       " 'Split_speaker/28-06-2022_test_60.wav': 'SPEAKER_01',\n",
       " 'Split_speaker/28-06-2022_test_61.wav': 'SPEAKER_00'}"
      ]
     },
     "execution_count": 22,
     "metadata": {},
     "output_type": "execute_result"
    }
   ],
   "source": [
    "audio_file = 'Input/28-06-2022_test.wav'\n",
    "folder = 'Split_speaker'\n",
    "Split_speaker(audio_file, 'Split_speaker')"
   ]
  },
  {
   "cell_type": "code",
   "execution_count": 23,
   "metadata": {},
   "outputs": [
    {
     "name": "stdout",
     "output_type": "stream",
     "text": [
      "{'folder/name_1.wav': 'SPEAKER_00', 'folder/name_2.wav': 'SPEAKER_01', 'folder/name_3.wav': 'SPEAKER_00', 'folder/name_4.wav': 'SPEAKER_01'}\n"
     ]
    }
   ],
   "source": [
    "print(hashDict)"
   ]
  }
 ],
 "metadata": {
  "kernelspec": {
   "display_name": "Python 3.8.8 ('base')",
   "language": "python",
   "name": "python3"
  },
  "language_info": {
   "codemirror_mode": {
    "name": "ipython",
    "version": 3
   },
   "file_extension": ".py",
   "mimetype": "text/x-python",
   "name": "python",
   "nbconvert_exporter": "python",
   "pygments_lexer": "ipython3",
   "version": "3.8.8"
  },
  "orig_nbformat": 4,
  "vscode": {
   "interpreter": {
    "hash": "0e5189a17ca081479f427968efa046b3a4186a4429793b0ea858057c9892f036"
   }
  }
 },
 "nbformat": 4,
 "nbformat_minor": 2
}
